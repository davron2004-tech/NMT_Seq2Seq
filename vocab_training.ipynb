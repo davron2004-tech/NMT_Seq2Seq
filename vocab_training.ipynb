{
 "cells": [
  {
   "cell_type": "code",
   "execution_count": 1,
   "id": "556e0d55",
   "metadata": {},
   "outputs": [
    {
     "data": {
      "application/vnd.jupyter.widget-view+json": {
       "model_id": "4a24d993b36c41cc9bef999e9f5dba4a",
       "version_major": 2,
       "version_minor": 0
      },
      "text/plain": [
       "Map:   0%|          | 0/363491 [00:00<?, ? examples/s]"
      ]
     },
     "metadata": {},
     "output_type": "display_data"
    },
    {
     "data": {
      "application/vnd.jupyter.widget-view+json": {
       "model_id": "45e615a33b184933a14fa744c2af9da1",
       "version_major": 2,
       "version_minor": 0
      },
      "text/plain": [
       "Map:   0%|          | 0/363491 [00:00<?, ? examples/s]"
      ]
     },
     "metadata": {},
     "output_type": "display_data"
    },
    {
     "data": {
      "application/vnd.jupyter.widget-view+json": {
       "model_id": "2654950a32bb40b5b65a585f4c3237b2",
       "version_major": 2,
       "version_minor": 0
      },
      "text/plain": [
       "Filter:   0%|          | 0/363491 [00:00<?, ? examples/s]"
      ]
     },
     "metadata": {},
     "output_type": "display_data"
    },
    {
     "name": "stdout",
     "output_type": "stream",
     "text": [
      "Number of samples in the dataset: 135311\n"
     ]
    }
   ],
   "source": [
    "from datasets import load_dataset\n",
    "from nltk.tokenize import word_tokenize\n",
    "\n",
    "dataset = load_dataset('MLDataScientist/SlimOrca-Dedup-English-Uzbek', split='train')\n",
    "\n",
    "dataset = dataset.filter(lambda x: x[\"from\"] == 'gpt')\n",
    "\n",
    "def strip_fields(example):\n",
    "    example[\"translations\"] = example[\"translations\"].strip().lower()\n",
    "    example[\"value\"] = example[\"value\"].strip().lower()\n",
    "    return example\n",
    "\n",
    "dataset = dataset.map(strip_fields)\n",
    "\n",
    "def count_word_count(example):\n",
    "    example['uz_word_count'] = len(word_tokenize(example['translations']))\n",
    "    example['en_word_count'] = len(word_tokenize(example['value']))\n",
    "    return example\n",
    "\n",
    "dataset = dataset.map(count_word_count)\n",
    "dataset = dataset.filter(lambda x: 0 < x['uz_word_count'] < 51 and 0 < x['en_word_count'] < 51)\n",
    "\n",
    "print(\"Number of samples in the dataset:\", len(dataset))"
   ]
  },
  {
   "cell_type": "code",
   "execution_count": null,
   "id": "ec28b131",
   "metadata": {},
   "outputs": [
    {
     "data": {
      "text/plain": [
       "Dataset({\n",
       "    features: ['conv_id', 'msg_id', 'from', 'value', 'translations', 'avg_len'],\n",
       "    num_rows: 1000\n",
       "})"
      ]
     },
     "execution_count": 3,
     "metadata": {},
     "output_type": "execute_result"
    }
   ],
   "source": [
    "dataset"
   ]
  },
  {
   "cell_type": "code",
   "execution_count": 2,
   "id": "1c68fa28",
   "metadata": {},
   "outputs": [
    {
     "data": {
      "application/vnd.jupyter.widget-view+json": {
       "model_id": "2baef4956875444aa02266396f173683",
       "version_major": 2,
       "version_minor": 0
      },
      "text/plain": [
       "Saving the dataset (0/1 shards):   0%|          | 0/135311 [00:00<?, ? examples/s]"
      ]
     },
     "metadata": {},
     "output_type": "display_data"
    }
   ],
   "source": [
    "dataset.save_to_disk(\"SlimOrca_Dedup_English_Uzbek_preprocessed\")"
   ]
  },
  {
   "cell_type": "code",
   "execution_count": 1,
   "id": "357aca0a",
   "metadata": {},
   "outputs": [
    {
     "name": "stdout",
     "output_type": "stream",
     "text": [
      "English vocabulary size: 117194\n",
      "Uzbek vocabulary size: 143266\n"
     ]
    }
   ],
   "source": [
    "from nltk.tokenize import word_tokenize\n",
    "from datasets import load_from_disk\n",
    "\n",
    "dataset = load_from_disk(\"SlimOrca_Dedup_English_Uzbek_preprocessed\")\n",
    "\n",
    "uz_texts = dataset['translations']\n",
    "en_texts = dataset['value']\n",
    "\n",
    "en_frequency = {}\n",
    "uz_frequency = {}\n",
    "\n",
    "for text in en_texts:\n",
    "    words = word_tokenize(text)\n",
    "    for word in words:\n",
    "        if word not in en_frequency:\n",
    "            en_frequency[word] = 0\n",
    "        en_frequency[word] += 1\n",
    "for text in uz_texts:\n",
    "    words = word_tokenize(text)\n",
    "    for word in words:\n",
    "        if word not in uz_frequency:\n",
    "            uz_frequency[word] = 0\n",
    "        uz_frequency[word] += 1\n",
    "\n",
    "en_frequency = sorted(en_frequency.items(), key=lambda x: x[1], reverse=True)\n",
    "uz_frequency = sorted(uz_frequency.items(), key=lambda x: x[1], reverse=True)\n",
    "\n",
    "print(\"English vocabulary size:\", len(en_frequency))\n",
    "print(\"Uzbek vocabulary size:\", len(uz_frequency))\n",
    "\n",
    "en_encoding_vocab = {'<bos>': 0, '<eos>': 1, '<unk>': 2}\n",
    "uz_encoding_vocab = {'<bos>': 0, '<eos>': 1, '<unk>': 2}\n",
    "\n",
    "en_decoding_vocab = {0: '<bos>', 1: '<eos>', 2: '<unk>'}\n",
    "uz_decoding_vocab = {0: '<bos>', 1: '<eos>', 2: '<unk>'}\n",
    "\n",
    "for i, (word, freq) in enumerate(en_frequency):\n",
    "    if i < 50000:  # Limit to top 50,000 words\n",
    "        en_encoding_vocab[word] = i + 3  # Start from index 3\n",
    "        en_decoding_vocab[i + 3] = word\n",
    "for i, (word, freq) in enumerate(uz_frequency):\n",
    "    if i < 50000:  # Limit to top 50,000 words\n",
    "        uz_encoding_vocab[word] = i + 3  # Start from index 3\n",
    "        uz_decoding_vocab[i + 3] = word"
   ]
  },
  {
   "cell_type": "code",
   "execution_count": 2,
   "id": "dbd5241a",
   "metadata": {},
   "outputs": [],
   "source": [
    "import json\n",
    "\n",
    "with open('en_encoding_vocab.json', 'w', encoding='utf-8') as f:\n",
    "    json.dump(en_encoding_vocab, f, ensure_ascii=False, indent=4)\n",
    "    \n",
    "with open('uz_encoding_vocab.json', 'w', encoding='utf-8') as f:\n",
    "    json.dump(uz_encoding_vocab, f, ensure_ascii=False, indent=4)\n",
    "    \n",
    "with open('en_decoding_vocab.json', 'w', encoding='utf-8') as f:\n",
    "    json.dump(en_decoding_vocab, f, ensure_ascii=False, indent=4)\n",
    "    \n",
    "with open('uz_decoding_vocab.json', 'w', encoding='utf-8') as f:\n",
    "    json.dump(uz_decoding_vocab, f, ensure_ascii=False, indent=4)"
   ]
  }
 ],
 "metadata": {
  "kernelspec": {
   "display_name": "main_env",
   "language": "python",
   "name": "python3"
  },
  "language_info": {
   "codemirror_mode": {
    "name": "ipython",
    "version": 3
   },
   "file_extension": ".py",
   "mimetype": "text/x-python",
   "name": "python",
   "nbconvert_exporter": "python",
   "pygments_lexer": "ipython3",
   "version": "3.10.17"
  }
 },
 "nbformat": 4,
 "nbformat_minor": 5
}
